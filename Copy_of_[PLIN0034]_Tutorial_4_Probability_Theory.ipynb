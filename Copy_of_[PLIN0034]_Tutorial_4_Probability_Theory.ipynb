{
  "cells": [
    {
      "cell_type": "markdown",
      "metadata": {
        "id": "view-in-github",
        "colab_type": "text"
      },
      "source": [
        "<a href=\"https://colab.research.google.com/github/kanincityy/kanincityy/blob/main/Copy_of_%5BPLIN0034%5D_Tutorial_4_Probability_Theory.ipynb\" target=\"_parent\"><img src=\"https://colab.research.google.com/assets/colab-badge.svg\" alt=\"Open In Colab\"/></a>"
      ]
    },
    {
      "cell_type": "code",
      "execution_count": 1,
      "metadata": {
        "deletable": false,
        "editable": false,
        "id": "f4NkR28oh7UQ",
        "colab": {
          "base_uri": "https://localhost:8080/"
        },
        "outputId": "77f97904-9f6d-4af0-c711-a9d5a126b9fe"
      },
      "outputs": [
        {
          "output_type": "stream",
          "name": "stdout",
          "text": [
            "Collecting otter-grader==5.7.1\n",
            "  Downloading otter_grader-5.7.1-py3-none-any.whl.metadata (2.9 kB)\n",
            "Collecting dill (from otter-grader==5.7.1)\n",
            "  Downloading dill-0.3.9-py3-none-any.whl.metadata (10 kB)\n",
            "Requirement already satisfied: jinja2 in /usr/local/lib/python3.10/dist-packages (from otter-grader==5.7.1) (3.1.4)\n",
            "Requirement already satisfied: nbformat in /usr/local/lib/python3.10/dist-packages (from otter-grader==5.7.1) (5.10.4)\n",
            "Requirement already satisfied: pandas in /usr/local/lib/python3.10/dist-packages (from otter-grader==5.7.1) (2.2.2)\n",
            "Requirement already satisfied: PyYAML in /usr/local/lib/python3.10/dist-packages (from otter-grader==5.7.1) (6.0.2)\n",
            "Collecting python-on-whales (from otter-grader==5.7.1)\n",
            "  Downloading python_on_whales-0.73.0-py3-none-any.whl.metadata (18 kB)\n",
            "Requirement already satisfied: requests in /usr/local/lib/python3.10/dist-packages (from otter-grader==5.7.1) (2.32.3)\n",
            "Requirement already satisfied: wrapt in /usr/local/lib/python3.10/dist-packages (from otter-grader==5.7.1) (1.16.0)\n",
            "Collecting jupytext (from otter-grader==5.7.1)\n",
            "  Downloading jupytext-1.16.4-py3-none-any.whl.metadata (13 kB)\n",
            "Requirement already satisfied: click in /usr/local/lib/python3.10/dist-packages (from otter-grader==5.7.1) (8.1.7)\n",
            "Collecting fica>=0.3.1 (from otter-grader==5.7.1)\n",
            "  Downloading fica-0.4.1-py3-none-any.whl.metadata (2.0 kB)\n",
            "Requirement already satisfied: ipython in /usr/local/lib/python3.10/dist-packages (from otter-grader==5.7.1) (7.34.0)\n",
            "Requirement already satisfied: astunparse in /usr/local/lib/python3.10/dist-packages (from otter-grader==5.7.1) (1.6.3)\n",
            "Requirement already satisfied: ipywidgets in /usr/local/lib/python3.10/dist-packages (from otter-grader==5.7.1) (7.7.1)\n",
            "Collecting ipylab (from otter-grader==5.7.1)\n",
            "  Downloading ipylab-1.0.0-py3-none-any.whl.metadata (6.7 kB)\n",
            "Requirement already satisfied: setuptools in /usr/local/lib/python3.10/dist-packages (from otter-grader==5.7.1) (75.1.0)\n",
            "Requirement already satisfied: nbconvert in /usr/local/lib/python3.10/dist-packages (from otter-grader==5.7.1) (6.5.4)\n",
            "Requirement already satisfied: docutils in /usr/local/lib/python3.10/dist-packages (from fica>=0.3.1->otter-grader==5.7.1) (0.18.1)\n",
            "Requirement already satisfied: sphinx in /usr/local/lib/python3.10/dist-packages (from fica>=0.3.1->otter-grader==5.7.1) (5.0.2)\n",
            "Requirement already satisfied: wheel<1.0,>=0.23.0 in /usr/local/lib/python3.10/dist-packages (from astunparse->otter-grader==5.7.1) (0.44.0)\n",
            "Requirement already satisfied: six<2.0,>=1.6.1 in /usr/local/lib/python3.10/dist-packages (from astunparse->otter-grader==5.7.1) (1.16.0)\n",
            "Requirement already satisfied: ipykernel>=4.5.1 in /usr/local/lib/python3.10/dist-packages (from ipywidgets->otter-grader==5.7.1) (5.5.6)\n",
            "Requirement already satisfied: ipython-genutils~=0.2.0 in /usr/local/lib/python3.10/dist-packages (from ipywidgets->otter-grader==5.7.1) (0.2.0)\n",
            "Requirement already satisfied: traitlets>=4.3.1 in /usr/local/lib/python3.10/dist-packages (from ipywidgets->otter-grader==5.7.1) (5.7.1)\n",
            "Requirement already satisfied: widgetsnbextension~=3.6.0 in /usr/local/lib/python3.10/dist-packages (from ipywidgets->otter-grader==5.7.1) (3.6.10)\n",
            "Requirement already satisfied: jupyterlab-widgets>=1.0.0 in /usr/local/lib/python3.10/dist-packages (from ipywidgets->otter-grader==5.7.1) (3.0.13)\n",
            "Collecting jedi>=0.16 (from ipython->otter-grader==5.7.1)\n",
            "  Downloading jedi-0.19.1-py2.py3-none-any.whl.metadata (22 kB)\n",
            "Requirement already satisfied: decorator in /usr/local/lib/python3.10/dist-packages (from ipython->otter-grader==5.7.1) (4.4.2)\n",
            "Requirement already satisfied: pickleshare in /usr/local/lib/python3.10/dist-packages (from ipython->otter-grader==5.7.1) (0.7.5)\n",
            "Requirement already satisfied: prompt-toolkit!=3.0.0,!=3.0.1,<3.1.0,>=2.0.0 in /usr/local/lib/python3.10/dist-packages (from ipython->otter-grader==5.7.1) (3.0.48)\n",
            "Requirement already satisfied: pygments in /usr/local/lib/python3.10/dist-packages (from ipython->otter-grader==5.7.1) (2.18.0)\n",
            "Requirement already satisfied: backcall in /usr/local/lib/python3.10/dist-packages (from ipython->otter-grader==5.7.1) (0.2.0)\n",
            "Requirement already satisfied: matplotlib-inline in /usr/local/lib/python3.10/dist-packages (from ipython->otter-grader==5.7.1) (0.1.7)\n",
            "Requirement already satisfied: pexpect>4.3 in /usr/local/lib/python3.10/dist-packages (from ipython->otter-grader==5.7.1) (4.9.0)\n",
            "Requirement already satisfied: MarkupSafe>=2.0 in /usr/local/lib/python3.10/dist-packages (from jinja2->otter-grader==5.7.1) (3.0.2)\n",
            "Requirement already satisfied: markdown-it-py>=1.0 in /usr/local/lib/python3.10/dist-packages (from jupytext->otter-grader==5.7.1) (3.0.0)\n",
            "Requirement already satisfied: mdit-py-plugins in /usr/local/lib/python3.10/dist-packages (from jupytext->otter-grader==5.7.1) (0.4.2)\n",
            "Requirement already satisfied: packaging in /usr/local/lib/python3.10/dist-packages (from jupytext->otter-grader==5.7.1) (24.1)\n",
            "Requirement already satisfied: tomli in /usr/local/lib/python3.10/dist-packages (from jupytext->otter-grader==5.7.1) (2.0.2)\n",
            "Requirement already satisfied: lxml in /usr/local/lib/python3.10/dist-packages (from nbconvert->otter-grader==5.7.1) (4.9.4)\n",
            "Requirement already satisfied: beautifulsoup4 in /usr/local/lib/python3.10/dist-packages (from nbconvert->otter-grader==5.7.1) (4.12.3)\n",
            "Requirement already satisfied: bleach in /usr/local/lib/python3.10/dist-packages (from nbconvert->otter-grader==5.7.1) (6.1.0)\n",
            "Requirement already satisfied: defusedxml in /usr/local/lib/python3.10/dist-packages (from nbconvert->otter-grader==5.7.1) (0.7.1)\n",
            "Requirement already satisfied: entrypoints>=0.2.2 in /usr/local/lib/python3.10/dist-packages (from nbconvert->otter-grader==5.7.1) (0.4)\n",
            "Requirement already satisfied: jupyter-core>=4.7 in /usr/local/lib/python3.10/dist-packages (from nbconvert->otter-grader==5.7.1) (5.7.2)\n",
            "Requirement already satisfied: jupyterlab-pygments in /usr/local/lib/python3.10/dist-packages (from nbconvert->otter-grader==5.7.1) (0.3.0)\n",
            "Requirement already satisfied: mistune<2,>=0.8.1 in /usr/local/lib/python3.10/dist-packages (from nbconvert->otter-grader==5.7.1) (0.8.4)\n",
            "Requirement already satisfied: nbclient>=0.5.0 in /usr/local/lib/python3.10/dist-packages (from nbconvert->otter-grader==5.7.1) (0.10.0)\n",
            "Requirement already satisfied: pandocfilters>=1.4.1 in /usr/local/lib/python3.10/dist-packages (from nbconvert->otter-grader==5.7.1) (1.5.1)\n",
            "Requirement already satisfied: tinycss2 in /usr/local/lib/python3.10/dist-packages (from nbconvert->otter-grader==5.7.1) (1.3.0)\n",
            "Requirement already satisfied: fastjsonschema>=2.15 in /usr/local/lib/python3.10/dist-packages (from nbformat->otter-grader==5.7.1) (2.20.0)\n",
            "Requirement already satisfied: jsonschema>=2.6 in /usr/local/lib/python3.10/dist-packages (from nbformat->otter-grader==5.7.1) (4.23.0)\n",
            "Requirement already satisfied: numpy>=1.22.4 in /usr/local/lib/python3.10/dist-packages (from pandas->otter-grader==5.7.1) (1.26.4)\n",
            "Requirement already satisfied: python-dateutil>=2.8.2 in /usr/local/lib/python3.10/dist-packages (from pandas->otter-grader==5.7.1) (2.8.2)\n",
            "Requirement already satisfied: pytz>=2020.1 in /usr/local/lib/python3.10/dist-packages (from pandas->otter-grader==5.7.1) (2024.2)\n",
            "Requirement already satisfied: tzdata>=2022.7 in /usr/local/lib/python3.10/dist-packages (from pandas->otter-grader==5.7.1) (2024.2)\n",
            "Requirement already satisfied: pydantic!=2.0.*,<3,>=2 in /usr/local/lib/python3.10/dist-packages (from python-on-whales->otter-grader==5.7.1) (2.9.2)\n",
            "Requirement already satisfied: tqdm in /usr/local/lib/python3.10/dist-packages (from python-on-whales->otter-grader==5.7.1) (4.66.5)\n",
            "Requirement already satisfied: typer>=0.4.1 in /usr/local/lib/python3.10/dist-packages (from python-on-whales->otter-grader==5.7.1) (0.12.5)\n",
            "Requirement already satisfied: typing-extensions in /usr/local/lib/python3.10/dist-packages (from python-on-whales->otter-grader==5.7.1) (4.12.2)\n",
            "Requirement already satisfied: charset-normalizer<4,>=2 in /usr/local/lib/python3.10/dist-packages (from requests->otter-grader==5.7.1) (3.4.0)\n",
            "Requirement already satisfied: idna<4,>=2.5 in /usr/local/lib/python3.10/dist-packages (from requests->otter-grader==5.7.1) (3.10)\n",
            "Requirement already satisfied: urllib3<3,>=1.21.1 in /usr/local/lib/python3.10/dist-packages (from requests->otter-grader==5.7.1) (2.2.3)\n",
            "Requirement already satisfied: certifi>=2017.4.17 in /usr/local/lib/python3.10/dist-packages (from requests->otter-grader==5.7.1) (2024.8.30)\n",
            "Requirement already satisfied: jupyter-client in /usr/local/lib/python3.10/dist-packages (from ipykernel>=4.5.1->ipywidgets->otter-grader==5.7.1) (6.1.12)\n",
            "Requirement already satisfied: tornado>=4.2 in /usr/local/lib/python3.10/dist-packages (from ipykernel>=4.5.1->ipywidgets->otter-grader==5.7.1) (6.3.3)\n",
            "Requirement already satisfied: parso<0.9.0,>=0.8.3 in /usr/local/lib/python3.10/dist-packages (from jedi>=0.16->ipython->otter-grader==5.7.1) (0.8.4)\n",
            "Requirement already satisfied: attrs>=22.2.0 in /usr/local/lib/python3.10/dist-packages (from jsonschema>=2.6->nbformat->otter-grader==5.7.1) (24.2.0)\n",
            "Requirement already satisfied: jsonschema-specifications>=2023.03.6 in /usr/local/lib/python3.10/dist-packages (from jsonschema>=2.6->nbformat->otter-grader==5.7.1) (2024.10.1)\n",
            "Requirement already satisfied: referencing>=0.28.4 in /usr/local/lib/python3.10/dist-packages (from jsonschema>=2.6->nbformat->otter-grader==5.7.1) (0.35.1)\n",
            "Requirement already satisfied: rpds-py>=0.7.1 in /usr/local/lib/python3.10/dist-packages (from jsonschema>=2.6->nbformat->otter-grader==5.7.1) (0.20.0)\n",
            "Requirement already satisfied: platformdirs>=2.5 in /usr/local/lib/python3.10/dist-packages (from jupyter-core>=4.7->nbconvert->otter-grader==5.7.1) (4.3.6)\n",
            "Requirement already satisfied: mdurl~=0.1 in /usr/local/lib/python3.10/dist-packages (from markdown-it-py>=1.0->jupytext->otter-grader==5.7.1) (0.1.2)\n",
            "Requirement already satisfied: ptyprocess>=0.5 in /usr/local/lib/python3.10/dist-packages (from pexpect>4.3->ipython->otter-grader==5.7.1) (0.7.0)\n",
            "Requirement already satisfied: wcwidth in /usr/local/lib/python3.10/dist-packages (from prompt-toolkit!=3.0.0,!=3.0.1,<3.1.0,>=2.0.0->ipython->otter-grader==5.7.1) (0.2.13)\n",
            "Requirement already satisfied: annotated-types>=0.6.0 in /usr/local/lib/python3.10/dist-packages (from pydantic!=2.0.*,<3,>=2->python-on-whales->otter-grader==5.7.1) (0.7.0)\n",
            "Requirement already satisfied: pydantic-core==2.23.4 in /usr/local/lib/python3.10/dist-packages (from pydantic!=2.0.*,<3,>=2->python-on-whales->otter-grader==5.7.1) (2.23.4)\n",
            "Requirement already satisfied: shellingham>=1.3.0 in /usr/local/lib/python3.10/dist-packages (from typer>=0.4.1->python-on-whales->otter-grader==5.7.1) (1.5.4)\n",
            "Requirement already satisfied: rich>=10.11.0 in /usr/local/lib/python3.10/dist-packages (from typer>=0.4.1->python-on-whales->otter-grader==5.7.1) (13.9.3)\n",
            "Requirement already satisfied: notebook>=4.4.1 in /usr/local/lib/python3.10/dist-packages (from widgetsnbextension~=3.6.0->ipywidgets->otter-grader==5.7.1) (6.5.5)\n",
            "Requirement already satisfied: soupsieve>1.2 in /usr/local/lib/python3.10/dist-packages (from beautifulsoup4->nbconvert->otter-grader==5.7.1) (2.6)\n",
            "Requirement already satisfied: webencodings in /usr/local/lib/python3.10/dist-packages (from bleach->nbconvert->otter-grader==5.7.1) (0.5.1)\n",
            "Requirement already satisfied: sphinxcontrib-applehelp in /usr/local/lib/python3.10/dist-packages (from sphinx->fica>=0.3.1->otter-grader==5.7.1) (2.0.0)\n",
            "Requirement already satisfied: sphinxcontrib-devhelp in /usr/local/lib/python3.10/dist-packages (from sphinx->fica>=0.3.1->otter-grader==5.7.1) (2.0.0)\n",
            "Requirement already satisfied: sphinxcontrib-jsmath in /usr/local/lib/python3.10/dist-packages (from sphinx->fica>=0.3.1->otter-grader==5.7.1) (1.0.1)\n",
            "Requirement already satisfied: sphinxcontrib-htmlhelp>=2.0.0 in /usr/local/lib/python3.10/dist-packages (from sphinx->fica>=0.3.1->otter-grader==5.7.1) (2.1.0)\n",
            "Requirement already satisfied: sphinxcontrib-serializinghtml>=1.1.5 in /usr/local/lib/python3.10/dist-packages (from sphinx->fica>=0.3.1->otter-grader==5.7.1) (2.0.0)\n",
            "Requirement already satisfied: sphinxcontrib-qthelp in /usr/local/lib/python3.10/dist-packages (from sphinx->fica>=0.3.1->otter-grader==5.7.1) (2.0.0)\n",
            "Requirement already satisfied: snowballstemmer>=1.1 in /usr/local/lib/python3.10/dist-packages (from sphinx->fica>=0.3.1->otter-grader==5.7.1) (2.2.0)\n",
            "Requirement already satisfied: babel>=1.3 in /usr/local/lib/python3.10/dist-packages (from sphinx->fica>=0.3.1->otter-grader==5.7.1) (2.16.0)\n",
            "Requirement already satisfied: alabaster<0.8,>=0.7 in /usr/local/lib/python3.10/dist-packages (from sphinx->fica>=0.3.1->otter-grader==5.7.1) (0.7.16)\n",
            "Requirement already satisfied: imagesize in /usr/local/lib/python3.10/dist-packages (from sphinx->fica>=0.3.1->otter-grader==5.7.1) (1.4.1)\n",
            "Requirement already satisfied: pyzmq>=13 in /usr/local/lib/python3.10/dist-packages (from jupyter-client->ipykernel>=4.5.1->ipywidgets->otter-grader==5.7.1) (24.0.1)\n",
            "Requirement already satisfied: argon2-cffi in /usr/local/lib/python3.10/dist-packages (from notebook>=4.4.1->widgetsnbextension~=3.6.0->ipywidgets->otter-grader==5.7.1) (23.1.0)\n",
            "Requirement already satisfied: nest-asyncio>=1.5 in /usr/local/lib/python3.10/dist-packages (from notebook>=4.4.1->widgetsnbextension~=3.6.0->ipywidgets->otter-grader==5.7.1) (1.6.0)\n",
            "Requirement already satisfied: Send2Trash>=1.8.0 in /usr/local/lib/python3.10/dist-packages (from notebook>=4.4.1->widgetsnbextension~=3.6.0->ipywidgets->otter-grader==5.7.1) (1.8.3)\n",
            "Requirement already satisfied: terminado>=0.8.3 in /usr/local/lib/python3.10/dist-packages (from notebook>=4.4.1->widgetsnbextension~=3.6.0->ipywidgets->otter-grader==5.7.1) (0.18.1)\n",
            "Requirement already satisfied: prometheus-client in /usr/local/lib/python3.10/dist-packages (from notebook>=4.4.1->widgetsnbextension~=3.6.0->ipywidgets->otter-grader==5.7.1) (0.21.0)\n",
            "Requirement already satisfied: nbclassic>=0.4.7 in /usr/local/lib/python3.10/dist-packages (from notebook>=4.4.1->widgetsnbextension~=3.6.0->ipywidgets->otter-grader==5.7.1) (1.1.0)\n",
            "Requirement already satisfied: notebook-shim>=0.2.3 in /usr/local/lib/python3.10/dist-packages (from nbclassic>=0.4.7->notebook>=4.4.1->widgetsnbextension~=3.6.0->ipywidgets->otter-grader==5.7.1) (0.2.4)\n",
            "Requirement already satisfied: argon2-cffi-bindings in /usr/local/lib/python3.10/dist-packages (from argon2-cffi->notebook>=4.4.1->widgetsnbextension~=3.6.0->ipywidgets->otter-grader==5.7.1) (21.2.0)\n",
            "Requirement already satisfied: jupyter-server<3,>=1.8 in /usr/local/lib/python3.10/dist-packages (from notebook-shim>=0.2.3->nbclassic>=0.4.7->notebook>=4.4.1->widgetsnbextension~=3.6.0->ipywidgets->otter-grader==5.7.1) (1.24.0)\n",
            "Requirement already satisfied: cffi>=1.0.1 in /usr/local/lib/python3.10/dist-packages (from argon2-cffi-bindings->argon2-cffi->notebook>=4.4.1->widgetsnbextension~=3.6.0->ipywidgets->otter-grader==5.7.1) (1.17.1)\n",
            "Requirement already satisfied: pycparser in /usr/local/lib/python3.10/dist-packages (from cffi>=1.0.1->argon2-cffi-bindings->argon2-cffi->notebook>=4.4.1->widgetsnbextension~=3.6.0->ipywidgets->otter-grader==5.7.1) (2.22)\n",
            "Requirement already satisfied: anyio<4,>=3.1.0 in /usr/local/lib/python3.10/dist-packages (from jupyter-server<3,>=1.8->notebook-shim>=0.2.3->nbclassic>=0.4.7->notebook>=4.4.1->widgetsnbextension~=3.6.0->ipywidgets->otter-grader==5.7.1) (3.7.1)\n",
            "Requirement already satisfied: websocket-client in /usr/local/lib/python3.10/dist-packages (from jupyter-server<3,>=1.8->notebook-shim>=0.2.3->nbclassic>=0.4.7->notebook>=4.4.1->widgetsnbextension~=3.6.0->ipywidgets->otter-grader==5.7.1) (1.8.0)\n",
            "Requirement already satisfied: sniffio>=1.1 in /usr/local/lib/python3.10/dist-packages (from anyio<4,>=3.1.0->jupyter-server<3,>=1.8->notebook-shim>=0.2.3->nbclassic>=0.4.7->notebook>=4.4.1->widgetsnbextension~=3.6.0->ipywidgets->otter-grader==5.7.1) (1.3.1)\n",
            "Requirement already satisfied: exceptiongroup in /usr/local/lib/python3.10/dist-packages (from anyio<4,>=3.1.0->jupyter-server<3,>=1.8->notebook-shim>=0.2.3->nbclassic>=0.4.7->notebook>=4.4.1->widgetsnbextension~=3.6.0->ipywidgets->otter-grader==5.7.1) (1.2.2)\n",
            "Downloading otter_grader-5.7.1-py3-none-any.whl (162 kB)\n",
            "\u001b[2K   \u001b[90m━━━━━━━━━━━━━━━━━━━━━━━━━━━━━━━━━━━━━━━━\u001b[0m \u001b[32m162.1/162.1 kB\u001b[0m \u001b[31m3.3 MB/s\u001b[0m eta \u001b[36m0:00:00\u001b[0m\n",
            "\u001b[?25hDownloading fica-0.4.1-py3-none-any.whl (13 kB)\n",
            "Downloading dill-0.3.9-py3-none-any.whl (119 kB)\n",
            "\u001b[2K   \u001b[90m━━━━━━━━━━━━━━━━━━━━━━━━━━━━━━━━━━━━━━━━\u001b[0m \u001b[32m119.4/119.4 kB\u001b[0m \u001b[31m7.3 MB/s\u001b[0m eta \u001b[36m0:00:00\u001b[0m\n",
            "\u001b[?25hDownloading ipylab-1.0.0-py3-none-any.whl (100 kB)\n",
            "\u001b[2K   \u001b[90m━━━━━━━━━━━━━━━━━━━━━━━━━━━━━━━━━━━━━━━━\u001b[0m \u001b[32m100.2/100.2 kB\u001b[0m \u001b[31m7.7 MB/s\u001b[0m eta \u001b[36m0:00:00\u001b[0m\n",
            "\u001b[?25hDownloading jupytext-1.16.4-py3-none-any.whl (153 kB)\n",
            "\u001b[2K   \u001b[90m━━━━━━━━━━━━━━━━━━━━━━━━━━━━━━━━━━━━━━━━\u001b[0m \u001b[32m153.5/153.5 kB\u001b[0m \u001b[31m11.3 MB/s\u001b[0m eta \u001b[36m0:00:00\u001b[0m\n",
            "\u001b[?25hDownloading python_on_whales-0.73.0-py3-none-any.whl (118 kB)\n",
            "\u001b[2K   \u001b[90m━━━━━━━━━━━━━━━━━━━━━━━━━━━━━━━━━━━━━━━━\u001b[0m \u001b[32m118.1/118.1 kB\u001b[0m \u001b[31m8.4 MB/s\u001b[0m eta \u001b[36m0:00:00\u001b[0m\n",
            "\u001b[?25hDownloading jedi-0.19.1-py2.py3-none-any.whl (1.6 MB)\n",
            "\u001b[2K   \u001b[90m━━━━━━━━━━━━━━━━━━━━━━━━━━━━━━━━━━━━━━━━\u001b[0m \u001b[32m1.6/1.6 MB\u001b[0m \u001b[31m39.1 MB/s\u001b[0m eta \u001b[36m0:00:00\u001b[0m\n",
            "\u001b[?25hInstalling collected packages: jedi, dill, fica, python-on-whales, jupytext, ipylab, otter-grader\n",
            "Successfully installed dill-0.3.9 fica-0.4.1 ipylab-1.0.0 jedi-0.19.1 jupytext-1.16.4 otter-grader-5.7.1 python-on-whales-0.73.0\n",
            "--2024-10-29 06:15:34--  https://sebschu.com/files/plin0034/tutorials/tutorial4/tests.zip\n",
            "Resolving sebschu.com (sebschu.com)... 185.199.109.153, 185.199.110.153, 185.199.111.153, ...\n",
            "Connecting to sebschu.com (sebschu.com)|185.199.109.153|:443... connected.\n",
            "HTTP request sent, awaiting response... 200 OK\n",
            "Length: 5130 (5.0K) [application/zip]\n",
            "Saving to: ‘tests.zip’\n",
            "\n",
            "tests.zip           100%[===================>]   5.01K  --.-KB/s    in 0s      \n",
            "\n",
            "2024-10-29 06:15:34 (50.4 MB/s) - ‘tests.zip’ saved [5130/5130]\n",
            "\n",
            "Archive:  tests.zip\n",
            "   creating: tests/\n",
            "  inflating: tests/q1.py             \n",
            "  inflating: tests/q3.py             \n",
            "  inflating: tests/q2.py             \n"
          ]
        }
      ],
      "source": [
        "!pip install otter-grader==5.7.1\n",
        "!wget \"https://sebschu.com/files/plin0034/tutorials/tutorial4/tests.zip\" && unzip *.zip"
      ]
    },
    {
      "cell_type": "code",
      "execution_count": 2,
      "metadata": {
        "deletable": false,
        "editable": false,
        "id": "ZRsjWZjKh7US"
      },
      "outputs": [],
      "source": [
        "# Initialize Otter\n",
        "import otter\n",
        "grader = otter.Notebook(colab=True)"
      ]
    },
    {
      "cell_type": "markdown",
      "metadata": {
        "id": "w5bXaCLFgaRR"
      },
      "source": [
        "# Tutorial 4: Probability Theory\n",
        "\n",
        "In this tutorial, you will practise working with probabilities and estimating probabilities from text.\n",
        "\n",
        "## Setup\n",
        "\n",
        "Make sure that you run the two cells on top of the notebook before running any of the other cells. Otherwise you will not be able to run the automatic tests."
      ]
    },
    {
      "cell_type": "markdown",
      "metadata": {
        "deletable": false,
        "editable": false,
        "id": "GZosY0NxiZTZ"
      },
      "source": [
        "## Exercise 1: Probability theory\n",
        "\n",
        "Solve the following exercises using pen and paper and then put the result into the cell below to check your answer (Those tests will only tell you if your result is correct or wrong but not what the expected answer is.)\n",
        "\n",
        "**Exercises:**\n",
        "\n",
        "a. Ifan rolls a fair dice, with sides labelled A, B, C, D, E and F. What is the probability that the dice lands on a vowel?\n",
        "\n",
        "b. What is the probability that it lands on a consonant?\n",
        "\n",
        "c. What is the probability that it lands on a letter that is part of the word \"CEDED\"?\n",
        "\n"
      ]
    },
    {
      "cell_type": "code",
      "execution_count": 3,
      "metadata": {
        "id": "8FtynRqCk-ew",
        "tags": []
      },
      "outputs": [],
      "source": [
        "# Put your answers here to check them below\n",
        "\n",
        "# Answer to Question 1a\n",
        "ans_1a = 1/3\n",
        "\n",
        "# Answer to Question 1b\n",
        "ans_1b = 2/3\n",
        "\n",
        "# Answer to Question 1c\n",
        "ans_1c = 0.5\n",
        "\n",
        "\n"
      ]
    },
    {
      "cell_type": "markdown",
      "metadata": {
        "deletable": false,
        "editable": false,
        "id": "E-uG8WNgQGVZ"
      },
      "source": [
        "**Exercises**:\n",
        "\n",
        "d. Assume you are tossing a fair coin 3 times. What is the probability of observing the sequence \"HHT\" (in that order) where H stands for HEADS and T for TAILS?\n",
        "\n",
        "e. What is the probability of observing two times HEADS and one time TAILS (in any order) when tossing a coin three times?\n",
        "\n",
        "f. What is the probability of observing fewer than 3 HEADS when tossing the coin 3 times?\n",
        "\n"
      ]
    },
    {
      "cell_type": "code",
      "execution_count": 4,
      "metadata": {
        "id": "layEZmMcRdfX",
        "tags": []
      },
      "outputs": [],
      "source": [
        "# Put your answers here to check them below\n",
        "\n",
        "# Answer to Question 1d\n",
        "ans_1d = 1/8\n",
        "\n",
        "# Answer to Question 1e\n",
        "ans_1e = 3/8\n",
        "...\n",
        "\n",
        "# Answer to Question 1f\n",
        "ans_1f = 7/8"
      ]
    },
    {
      "cell_type": "markdown",
      "metadata": {
        "deletable": false,
        "editable": false,
        "id": "yyKE04SqRcwU"
      },
      "source": [
        "**Exercises**\n",
        "\n",
        "g. In English, sentences with two objects (E.g, _I sent the girl a letter_) can either be realised with a double object (DO) construction in which there are two noun phrases (NPs) or with a prepositional object construction (POs) in which there is a noun phrase and the recipient is realised as a prepositional phrase (PP), as in _I sent a letter to the girl_. [Bresnan et al. (2007)](https://brucehayes.org/201A/readings/BresnanEtAlOnDatives.pdf) investigated which factors affect whether English speakers produce a DO or a PO construction.\n",
        "\n",
        "The following table contains corpus counts from Bresnan et al. (2007) on whether a sentence is realised as a DO or PO and whether the recipient is a pronoun or not.\n",
        "\n",
        "|    | Pronoun | Not a pronoun |\n",
        "|----|---------|---------------|\n",
        "| DO | 1814    | 600           |\n",
        "| PO | 220     | 629           |\n",
        "\n",
        "\n",
        "Compute the joint probabilities $P(pronoun, construction)$ for each of the four combinatins (Pronoun, DO), (Pronoun, PO), (Not a pronoun, DO), (Not a pronoun, PO).\n",
        "\n",
        "h. What is the probability of producing a pronoun as the recipient, $P(pronoun)$?\n",
        "\n",
        "i. What is the probability of producing a double object construction $P(DO)$?\n",
        "\n",
        "j. What is the probability of producing a double object construction conditioned on producing a pronoun as the recipient, $P(DO \\mid pronoun)$?\n"
      ]
    },
    {
      "cell_type": "code",
      "execution_count": 5,
      "metadata": {
        "id": "COb0deZScZaq",
        "tags": []
      },
      "outputs": [],
      "source": [
        "# Put your answers here to check them below\n",
        "\n",
        "ans_1g = {\"pronoun\": {}, \"not-pronoun\": {}}\n",
        "# Answers to Question 1g\n",
        "ans_1g[\"pronoun\"][\"DO\"] = 1814\n",
        "ans_1g[\"pronoun\"][\"PO\"] = 220\n",
        "ans_1g[\"not-pronoun\"][\"DO\"] = 600\n",
        "ans_1g[\"not-pronoun\"][\"PO\"] = 629\n",
        "\n",
        "\n",
        "# Answer to Question 1h\n",
        "ans_1h = 0.62\n",
        "\n",
        "# Answer to Question 1i\n",
        "ans_1i = 0.56\n",
        "\n",
        "# Answer to Question 1j\n",
        "ans_1j = 0.75"
      ]
    },
    {
      "cell_type": "code",
      "execution_count": 6,
      "metadata": {
        "deletable": false,
        "editable": false,
        "id": "W7BYXy2Wh7UV",
        "colab": {
          "base_uri": "https://localhost:8080/",
          "height": 233
        },
        "outputId": "e79f8195-e8bc-42ad-c6a4-c6c3aa31b404"
      },
      "outputs": [
        {
          "output_type": "execute_result",
          "data": {
            "text/plain": [
              "q1 results:\n",
              "    q1 - 1 result:\n",
              "        ✅ Test case passed\n",
              "\n",
              "    q1 - 2 result:\n",
              "        ✅ Test case passed\n",
              "\n",
              "    q1 - 3 result:\n",
              "        ❌ Test case failed\n",
              "        Error at line 78 in test q1:\n",
              "              assert ans_1g[\"pronoun\"][\"DO\"] < GOLD[\"1g1\"] + 0.01, \"The answer to exercise '1g' is not correct\"\n",
              "        AssertionError: The answer to exercise '1g' is not correct"
            ],
            "text/html": [
              "<p><strong style='color: red;'><pre style='display: inline;'>q1</pre> results:</strong></p><p><strong><pre style='display: inline;'>q1 - 1</pre> result:</strong></p><pre>    ✅ Test case passed</pre><p><strong><pre style='display: inline;'>q1 - 2</pre> result:</strong></p><pre>    ✅ Test case passed</pre><p><strong><pre style='display: inline;'>q1 - 3</pre> result:</strong></p><pre>    ❌ Test case failed\n",
              "    Error at line 78 in test q1:\n",
              "          assert ans_1g[\"pronoun\"][\"DO\"] < GOLD[\"1g1\"] + 0.01, \"The answer to exercise '1g' is not correct\"\n",
              "    AssertionError: The answer to exercise '1g' is not correct</pre>"
            ]
          },
          "metadata": {},
          "execution_count": 6
        }
      ],
      "source": [
        "grader.check(\"q1\")"
      ]
    },
    {
      "cell_type": "markdown",
      "metadata": {
        "deletable": false,
        "editable": false,
        "id": "kkbj12Coe92y"
      },
      "source": [
        "## Exercise 2: Bayes Rule\n",
        "\n",
        "The following exercises allow you to practice conditional probabilities and applying Bayes Rule.\n",
        "\n",
        "A person uses his car 30% of the time, walks 30% of the time and rides the bus 40% of the time as he goes to work. He is late 10% of the time when he walks; he is late 3% of the time when he drives; and he is late 7% of the time he takes the bus.\n",
        "\n",
        "a. What is the probability he took the bus if he was late?\n",
        "\n",
        "b. What is the probability he walked if he is on time?"
      ]
    },
    {
      "cell_type": "code",
      "execution_count": 7,
      "metadata": {
        "id": "8wNTlTFyN5IU",
        "tags": []
      },
      "outputs": [],
      "source": [
        "# Answer to Question 2a\n",
        "ans_2a = 0.418\n",
        "\n",
        "# Answer to Question 2b\n",
        "ans_2b = 0.289\n"
      ]
    },
    {
      "cell_type": "markdown",
      "metadata": {
        "deletable": false,
        "editable": false,
        "id": "tEUjwyDBIgVn"
      },
      "source": [
        "c. Consider 3 coins where two are fair, yielding heads with probability 0.50, while the third yields heads with probability 0.75. If one randomly selects one of the coins and tosses it 3 times, yielding 3 heads - what is the probability this is the biased coin?"
      ]
    },
    {
      "cell_type": "code",
      "execution_count": 8,
      "metadata": {
        "id": "FMvU1r4JIy9i",
        "tags": []
      },
      "outputs": [],
      "source": [
        "# Answer to Question 2c\n",
        "ans_2c = 0.627\n"
      ]
    },
    {
      "cell_type": "markdown",
      "metadata": {
        "deletable": false,
        "editable": false,
        "id": "6cj9dotAZr1G"
      },
      "source": [
        "d. Company A supplies 40% of the computers sold and is late 5% of the time. Company B supplies 30% of the computers sold and is late 3% of the time. Company C supplies another 30% and is late 2.5% of the time. A computer arrives late - what is the probability that it came from Company A?"
      ]
    },
    {
      "cell_type": "code",
      "execution_count": 9,
      "metadata": {
        "id": "QhzbEyiuea7q",
        "tags": []
      },
      "outputs": [],
      "source": [
        "# Answer to Question 2d\n",
        "ans_2d = 0.55"
      ]
    },
    {
      "cell_type": "code",
      "execution_count": 10,
      "metadata": {
        "deletable": false,
        "editable": false,
        "id": "i-OU313Ph7UW",
        "colab": {
          "base_uri": "https://localhost:8080/",
          "height": 46
        },
        "outputId": "cb733c19-f27e-42ed-efad-faad3e1aade4"
      },
      "outputs": [
        {
          "output_type": "execute_result",
          "data": {
            "text/plain": [
              "q2 results: All test cases passed!"
            ],
            "text/html": [
              "<p><strong><pre style='display: inline;'>q2</pre></strong> passed! 🍀</p>"
            ]
          },
          "metadata": {},
          "execution_count": 10
        }
      ],
      "source": [
        "grader.check(\"q2\")"
      ]
    },
    {
      "cell_type": "markdown",
      "metadata": {
        "deletable": false,
        "editable": false,
        "id": "DCunFBJjyH15"
      },
      "source": [
        "## Question 3: Computing probabilities for spelling mistakes\n",
        "\n",
        "As we discussed in Lecture 4, we can represent the probability of typing a character $r$ instead of a character $i$ as $P(r \\mid i)$. In this exercise, you will compute the probabilities from a file of simulated typos.\n",
        "\n",
        "The file contains two words per line (separated by a space): the first one corresponds to the user's intention (i.e., the correct word) and the second one corresponds to what the user typed. In the majority of cases, these two words will be identical but sometimes one or a few letters will have been substituted. We are asssuming here that substitutions are the only typos users make, so you can assume that both the intended word and the typed word will always have the same number of characters.\n",
        "\n",
        "Your job is to read in the file and build up a dictionary of dictionaries `P_r_i` where the entry `P_r_i[i][r]` corresponds to the probability of producing letter `r` given intention `i`.\n",
        "\n",
        "A few hints:\n",
        "\n",
        "* Remember that you can use for loops to go through each character of a string, e.g., the following snippet will loop through each character in the string `word` and print one character a time.\n",
        "```python\n",
        "for c in word:\n",
        "    print(c)\n",
        "```\n",
        "\n",
        "* You can use the `sum` method to compute the sum of a list. It can be useful to compute the sum of all the values in a dictionary `d` as following:\n",
        "```python\n",
        "total = sum(d.values())\n",
        "```\n",
        "\n",
        "* Instead of computing $P(i,r)$ and $P(i)$ to compute $P(r \\mid i)$ you can also compute $P(r \\mid i)$ as follows.\n",
        "$$ P(r \\mid i) = \\frac{count(i, r)}{count(i)}$$\n",
        "where $count$ corresponds to how often something appears in the data.\n",
        "\n",
        "To download the file, run the following cell. This downloads the file to `data/substitutions.txt`.\n"
      ]
    },
    {
      "cell_type": "code",
      "execution_count": 26,
      "metadata": {
        "deletable": false,
        "editable": false,
        "id": "cFxWle55c5c3",
        "colab": {
          "base_uri": "https://localhost:8080/"
        },
        "outputId": "b55df357-95ef-42d0-9f18-ae8d200de0f2"
      },
      "outputs": [
        {
          "output_type": "stream",
          "name": "stdout",
          "text": [
            "--2024-10-29 06:23:20--  https://sebschu.com/files/plin0034/tutorials/tutorial4/substitutions.txt.gz\n",
            "Resolving sebschu.com (sebschu.com)... 185.199.109.153, 185.199.110.153, 185.199.111.153, ...\n",
            "Connecting to sebschu.com (sebschu.com)|185.199.109.153|:443... connected.\n",
            "HTTP request sent, awaiting response... 200 OK\n",
            "Length: 754335 (737K) [application/gzip]\n",
            "Saving to: ‘substitutions.txt.gz’\n",
            "\n",
            "substitutions.txt.g 100%[===================>] 736.66K  --.-KB/s    in 0.06s   \n",
            "\n",
            "2024-10-29 06:23:20 (12.7 MB/s) - ‘substitutions.txt.gz’ saved [754335/754335]\n",
            "\n"
          ]
        }
      ],
      "source": [
        "!mkdir -p data && cd data && wget https://sebschu.com/files/plin0034/tutorials/tutorial4/substitutions.txt.gz && gunzip substitutions.txt.gz"
      ]
    },
    {
      "cell_type": "code",
      "execution_count": 27,
      "metadata": {
        "id": "ZaCfOe7jQbLO",
        "tags": []
      },
      "outputs": [],
      "source": [
        "def compute_replacement_probs():\n",
        "  P_r_i = {}\n",
        "  # YOUR SOLUTION HERE\n",
        "  path = \"substitutions.txt\"\n",
        "  # initialise an empty dictionary for each character?\n",
        "  character_counts_i = {}\n",
        "  character_counts_r = {}\n",
        "\n",
        "  # open the filename\n",
        "  with open(path, \"r\", encoding=\"UTF-8\") as sub_text:\n",
        "    # loop through each line in the file\n",
        "    for line in sub_text:\n",
        "      # create a list of each line\n",
        "      line = line.strip().lower().split()\n",
        "      for word[1] in line:\n",
        "        for chara in word[0]:\n",
        "          if chara not in character_counts_i:\n",
        "            character_counts_i[chara] = 0\n",
        "          character_count_i[chara] += 1\n",
        "      for word[2] in line:\n",
        "        for c in word[1]:\n",
        "          if c not in character_counts_r:\n",
        "            character_counts_r[c] = 0\n",
        "          character_counts_r[c] += 1\n",
        "  total_character_count = sum(character_counts_i.values()) + sum(character_counts_r.values())\n",
        "\n",
        "  for chara in character_counts_i:\n",
        "    P_r_i[chara] = character_counts_i[chara] / total_character_count\n",
        "\n",
        "  return P_r_i\n",
        "\n"
      ]
    },
    {
      "cell_type": "code",
      "execution_count": 28,
      "metadata": {
        "deletable": false,
        "editable": false,
        "id": "TypXmDfoh7UX",
        "colab": {
          "base_uri": "https://localhost:8080/",
          "height": 139
        },
        "outputId": "fbf6780e-6f66-4c42-86ba-4441f1de91d6"
      },
      "outputs": [
        {
          "output_type": "execute_result",
          "data": {
            "text/plain": [
              "q3 results:\n",
              "    q3 - 1 result:\n",
              "        ❌ Test case failed\n",
              "        Error at line 68 in test q3:\n",
              "            P_r_i = compute_replacement_probs()\n",
              "        FileNotFoundError: [Errno 2] No such file or directory: 'substitutions.txt"
            ],
            "text/html": [
              "<p><strong style='color: red;'><pre style='display: inline;'>q3</pre> results:</strong></p><p><strong><pre style='display: inline;'>q3 - 1</pre> result:</strong></p><pre>    ❌ Test case failed\n",
              "    Error at line 68 in test q3:\n",
              "        P_r_i = compute_replacement_probs()\n",
              "    FileNotFoundError: [Errno 2] No such file or directory: 'substitutions.txt</pre>"
            ]
          },
          "metadata": {},
          "execution_count": 28
        }
      ],
      "source": [
        "grader.check(\"q3\")"
      ]
    },
    {
      "cell_type": "markdown",
      "metadata": {
        "id": "E3-MyVTcTD7j"
      },
      "source": [
        "## Submit this assignment to Gradescope\n",
        "\n",
        "**Instructions**:\n",
        "\n",
        "\n",
        "1. Download this Notebook as an *.ipynb file:\n",
        "Click on File -> Download -> Download .ipynb\n",
        "2. Go to the Gradescope course page: https://www.gradescope.com/courses/881119/ and login with your Gradescope account.\n",
        "3. Choose the assignment \"Tutorial 4\" and upload your notebook (the .ipynb file) on Gradescope."
      ]
    }
  ],
  "metadata": {
    "colab": {
      "provenance": [],
      "include_colab_link": true
    },
    "kernelspec": {
      "display_name": "Python 3",
      "name": "python3"
    },
    "language_info": {
      "name": "python"
    },
    "otter": {
      "assignment_name": "tutorial4"
    }
  },
  "nbformat": 4,
  "nbformat_minor": 0
}